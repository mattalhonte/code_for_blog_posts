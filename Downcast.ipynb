{
 "cells": [
  {
   "cell_type": "code",
   "execution_count": null,
   "metadata": {},
   "outputs": [],
   "source": [
    "import pandas as pd\n"
   ]
  },
  {
   "cell_type": "code",
   "execution_count": null,
   "metadata": {},
   "outputs": [],
   "source": [
    "def float_to_int(ser):\n",
    "    try:\n",
    "        int_ser = ser.astype(int)\n",
    "        if (ser == int_ser).all():\n",
    "            return int_ser\n",
    "        else:\n",
    "            return ser\n",
    "    except ValueError:\n",
    "        return ser\n",
    "    \n",
    "def multi_assign(df, transform_fn, condition):\n",
    "    df_to_use = df.copy()\n",
    "    \n",
    "    return (df_to_use\n",
    "        .assign(\n",
    "            **{col: transform_fn(df_to_use[col])\n",
    "               for col in condition(df_to_use)})\n",
    "           )\n",
    "\n",
    "def all_float_to_int(df):\n",
    "    df_to_use = df.copy()\n",
    "    transform_fn = float_to_int\n",
    "    condition = lambda x: list(x\n",
    "                    .select_dtypes(include=[\"float\"])\n",
    "                    .columns)    \n",
    "    \n",
    "    return multi_assign(df_to_use, transform_fn, condition)\n",
    "\n",
    "def downcast_all(df, target_type, inital_type=None):\n",
    "    #Gotta specify floats, unsigned, or integer\n",
    "    #If integer, gotta be 'integer', not 'int'\n",
    "    #Unsigned should look for Ints\n",
    "    if inital_type is None:\n",
    "        inital_type = target_type\n",
    "    \n",
    "    df_to_use = df.copy()\n",
    "    \n",
    "    transform_fn = lambda x: pd.to_numeric(x, \n",
    "                                downcast=target_type)\n",
    "    \n",
    "    condition = lambda x: list(x\n",
    "                    .select_dtypes(include=[inital_type])\n",
    "                    .columns) \n",
    "    \n",
    "    return multi_assign(df_to_use, transform_fn, condition)\n",
    "\n"
   ]
  },
  {
   "cell_type": "code",
   "execution_count": null,
   "metadata": {},
   "outputs": [],
   "source": []
  }
 ],
 "metadata": {
  "kernelspec": {
   "display_name": "Python [conda env:py_36]",
   "language": "python",
   "name": "conda-env-py_36-py"
  },
  "language_info": {
   "codemirror_mode": {
    "name": "ipython",
    "version": 3
   },
   "file_extension": ".py",
   "mimetype": "text/x-python",
   "name": "python",
   "nbconvert_exporter": "python",
   "pygments_lexer": "ipython3",
   "version": "3.6.5"
  }
 },
 "nbformat": 4,
 "nbformat_minor": 2
}
