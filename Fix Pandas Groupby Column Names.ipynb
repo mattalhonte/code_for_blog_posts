{
 "cells": [
  {
   "cell_type": "code",
   "execution_count": 1,
   "metadata": {},
   "outputs": [
    {
     "name": "stdout",
     "output_type": "stream",
     "text": [
      "The history saving thread hit an unexpected error (DatabaseError('database disk image is malformed')).History will not be written to the database.\n"
     ]
    }
   ],
   "source": [
    "import pandas as pd\n",
    "from IPython.display import display, Markdown\n",
    "from itertools import chain\n",
    "from typing import List, Tuple, Dict, Union"
   ]
  },
  {
   "cell_type": "code",
   "execution_count": null,
   "metadata": {},
   "outputs": [],
   "source": [
    "def turn_dict_entry_into_strings(\n",
    "    entry: Tuple[str, Union[str, List[str]]]\n",
    ") -> Union[str, List[str]]:\n",
    "    if isinstance(entry[1], str):\n",
    "        return [f\"{entry[1]} {entry[0]}\"]\n",
    "    if isinstance(entry[1], list):\n",
    "        return [f\"{agg} {entry[0]}\" for agg in entry[1]]\n",
    "\n",
    "\n",
    "def fix_agg_col_names(\n",
    "    df: pd.core.groupby.generic.DataFrameGroupBy,\n",
    "    agg_dct: Dict[str, Union[str, List[str]]],\n",
    ") -> pd.DataFrame:\n",
    "\n",
    "    agged = df.agg(agg_dct)\n",
    "    index_cols = agged.index.names\n",
    "    agged = agged.reset_index()\n",
    "    agg_cols = list(\n",
    "        chain.from_iterable(\n",
    "            turn_dict_entry_into_strings(item) for item in agg_dct.items()\n",
    "        )\n",
    "    )\n",
    "    agged.columns = index_cols + agg_cols\n",
    "    return agged"
   ]
  },
  {
   "cell_type": "code",
   "execution_count": null,
   "metadata": {},
   "outputs": [],
   "source": [
    "# (df[lambda x: (x[\"IsACO\"]) & (x[\"Term_Order\"]<4)]\n",
    "# .groupby([\"SBJCT_CD\", \"CATALOG_NBR\", \"CRSE_LD\"])\n",
    "# .pipe(fix_agg_col_names, {\"Enrolled_One_Year_Later\": [\"mean\", \"count\"],\n",
    "#          \"SBJCT_CD\": \"nunique\"})\n",
    "# .sort_values(by=\"mean Enrolled_One_Year_Later\", ascending=False))"
   ]
  }
 ],
 "metadata": {
  "kernelspec": {
   "display_name": "Python [conda env:py_37]",
   "language": "python",
   "name": "conda-env-py_37-py"
  },
  "language_info": {
   "codemirror_mode": {
    "name": "ipython",
    "version": 3
   },
   "file_extension": ".py",
   "mimetype": "text/x-python",
   "name": "python",
   "nbconvert_exporter": "python",
   "pygments_lexer": "ipython3",
   "version": "3.7.3"
  }
 },
 "nbformat": 4,
 "nbformat_minor": 2
}
