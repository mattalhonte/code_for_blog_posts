{
 "cells": [
  {
   "cell_type": "code",
   "execution_count": 1,
   "metadata": {},
   "outputs": [],
   "source": [
    "import pandas as pd"
   ]
  },
  {
   "cell_type": "code",
   "execution_count": 3,
   "metadata": {},
   "outputs": [],
   "source": [
    "import random"
   ]
  },
  {
   "cell_type": "code",
   "execution_count": 2,
   "metadata": {},
   "outputs": [],
   "source": [
    "def multi_assign(df, transform_fn, condition):\n",
    "    df_to_use = df.copy()\n",
    "    \n",
    "    return (df_to_use\n",
    "        .assign(\n",
    "            **{col: transform_fn(df_to_use[col])\n",
    "               for col in condition(df_to_use)})\n",
    "           )"
   ]
  },
  {
   "cell_type": "code",
   "execution_count": 16,
   "metadata": {},
   "outputs": [],
   "source": [
    "def all_low_cardinality_to_categorical(df):\n",
    "    df_to_use = df.copy()\n",
    "    \n",
    "    transform_fn = lambda x: x.astype(\"category\")\n",
    "    \n",
    "    condition = lambda x:  (x.select_dtypes(include=['object']).nunique() > 0.5).index\n",
    "    \n",
    "    return multi_assign(df_to_use, transform_fn, condition)\n",
    "\n",
    "    "
   ]
  },
  {
   "cell_type": "code",
   "execution_count": 7,
   "metadata": {},
   "outputs": [],
   "source": [
    "df = pd.DataFrame(\n",
    "    {\"A\": [random.choice([\"animal\", \"vegetable\", \"mineral\"]) for _ in range(10)],\n",
    "     \"B\": list(range(10)),\n",
    "     \"C\": [random.choice([\"alice\", \"bob\", \"charlie\"]) for _ in range(10)]}\n",
    ")"
   ]
  },
  {
   "cell_type": "code",
   "execution_count": 23,
   "metadata": {},
   "outputs": [
    {
     "data": {
      "text/plain": [
       "A    category\n",
       "B       int64\n",
       "C    category\n",
       "dtype: object"
      ]
     },
     "execution_count": 23,
     "metadata": {},
     "output_type": "execute_result"
    }
   ],
   "source": [
    "all_low_cardinality_to_categorical(df).dtypes"
   ]
  },
  {
   "cell_type": "code",
   "execution_count": 18,
   "metadata": {},
   "outputs": [],
   "source": [
    "import dask.dataframe as da45"
   ]
  },
  {
   "cell_type": "code",
   "execution_count": 27,
   "metadata": {},
   "outputs": [
    {
     "data": {
      "text/html": [
       "<div>\n",
       "<style scoped>\n",
       "    .dataframe tbody tr th:only-of-type {\n",
       "        vertical-align: middle;\n",
       "    }\n",
       "\n",
       "    .dataframe tbody tr th {\n",
       "        vertical-align: top;\n",
       "    }\n",
       "\n",
       "    .dataframe thead th {\n",
       "        text-align: right;\n",
       "    }\n",
       "</style>\n",
       "<table border=\"1\" class=\"dataframe\">\n",
       "  <thead>\n",
       "    <tr style=\"text-align: right;\">\n",
       "      <th></th>\n",
       "      <th>A</th>\n",
       "      <th>B</th>\n",
       "      <th>C</th>\n",
       "    </tr>\n",
       "  </thead>\n",
       "  <tbody>\n",
       "    <tr>\n",
       "      <th>0</th>\n",
       "      <td>mineral</td>\n",
       "      <td>0</td>\n",
       "      <td>bob</td>\n",
       "    </tr>\n",
       "    <tr>\n",
       "      <th>1</th>\n",
       "      <td>mineral</td>\n",
       "      <td>1</td>\n",
       "      <td>alice</td>\n",
       "    </tr>\n",
       "    <tr>\n",
       "      <th>2</th>\n",
       "      <td>animal</td>\n",
       "      <td>2</td>\n",
       "      <td>charlie</td>\n",
       "    </tr>\n",
       "    <tr>\n",
       "      <th>3</th>\n",
       "      <td>vegetable</td>\n",
       "      <td>3</td>\n",
       "      <td>alice</td>\n",
       "    </tr>\n",
       "    <tr>\n",
       "      <th>4</th>\n",
       "      <td>mineral</td>\n",
       "      <td>4</td>\n",
       "      <td>alice</td>\n",
       "    </tr>\n",
       "    <tr>\n",
       "      <th>5</th>\n",
       "      <td>animal</td>\n",
       "      <td>5</td>\n",
       "      <td>alice</td>\n",
       "    </tr>\n",
       "    <tr>\n",
       "      <th>6</th>\n",
       "      <td>mineral</td>\n",
       "      <td>6</td>\n",
       "      <td>charlie</td>\n",
       "    </tr>\n",
       "    <tr>\n",
       "      <th>7</th>\n",
       "      <td>mineral</td>\n",
       "      <td>7</td>\n",
       "      <td>charlie</td>\n",
       "    </tr>\n",
       "    <tr>\n",
       "      <th>8</th>\n",
       "      <td>vegetable</td>\n",
       "      <td>8</td>\n",
       "      <td>charlie</td>\n",
       "    </tr>\n",
       "    <tr>\n",
       "      <th>9</th>\n",
       "      <td>vegetable</td>\n",
       "      <td>9</td>\n",
       "      <td>charlie</td>\n",
       "    </tr>\n",
       "  </tbody>\n",
       "</table>\n",
       "</div>"
      ],
      "text/plain": [
       "           A  B        C\n",
       "0    mineral  0      bob\n",
       "1    mineral  1    alice\n",
       "2     animal  2  charlie\n",
       "3  vegetable  3    alice\n",
       "4    mineral  4    alice\n",
       "5     animal  5    alice\n",
       "6    mineral  6  charlie\n",
       "7    mineral  7  charlie\n",
       "8  vegetable  8  charlie\n",
       "9  vegetable  9  charlie"
      ]
     },
     "execution_count": 27,
     "metadata": {},
     "output_type": "execute_result"
    }
   ],
   "source": [
    "(\n",
    "    df.pipe(all_low_cardinality_to_categorical)\n",
    "    .pipe(da.from_pandas, npartitions=4)\n",
    "    .pipe(all_float_to_int)\n",
    "    .pipe(downcast_all, \"float\")\n",
    "    .pipe(downcast_all, \"integer\")\n",
    "    .pipe(downcast_all, target_type=\"unsigned\", inital_type=\"integer\")\n",
    ").compute()"
   ]
  },
  {
   "cell_type": "code",
   "execution_count": 25,
   "metadata": {},
   "outputs": [],
   "source": [
    "def float_to_int(ser):\n",
    "    try:\n",
    "        int_ser = ser.astype(int)\n",
    "        if (ser == int_ser).all():\n",
    "            return int_ser\n",
    "        else:\n",
    "            return ser\n",
    "    except ValueError:\n",
    "        return ser\n",
    "    \n",
    "def multi_assign(df, transform_fn, condition):\n",
    "    df_to_use = df.copy()\n",
    "    \n",
    "    return (df_to_use\n",
    "        .assign(\n",
    "            **{col: transform_fn(df_to_use[col])\n",
    "               for col in condition(df_to_use)})\n",
    "           )\n",
    "\n",
    "def all_float_to_int(df):\n",
    "    df_to_use = df.copy()\n",
    "    transform_fn = float_to_int\n",
    "    condition = lambda x: list(x\n",
    "                    .select_dtypes(include=[\"float\"])\n",
    "                    .columns)    \n",
    "    \n",
    "    return multi_assign(df_to_use, transform_fn, condition)\n",
    "\n",
    "def downcast_all(df, target_type, inital_type=None):\n",
    "    #Gotta specify floats, unsigned, or integer\n",
    "    #If integer, gotta be 'integer', not 'int'\n",
    "    #Unsigned should look for Ints\n",
    "    if inital_type is None:\n",
    "        inital_type = target_type\n",
    "    \n",
    "    df_to_use = df.copy()\n",
    "    \n",
    "    transform_fn = lambda x: pd.to_numeric(x, \n",
    "                                downcast=target_type)\n",
    "    \n",
    "    condition = lambda x: list(x\n",
    "                    .select_dtypes(include=[inital_type])\n",
    "                    .columns) \n",
    "    \n",
    "    return multi_assign(df_to_use, transform_fn, condition)\n",
    "\n"
   ]
  },
  {
   "cell_type": "code",
   "execution_count": null,
   "metadata": {},
   "outputs": [],
   "source": [
    "test_new_fn2 = (small_merged_with_cats\n",
    "    .pipe(remove_dup_cols)\n",
    "    .pipe(all_float_to_int)\n",
    "     .pipe(downcast_all, \"float\")\n",
    "     .pipe(downcast_all, \"integer\")\n",
    "     .pipe(downcast_all,  \n",
    "           target_type = \"unsigned\", \n",
    "           inital_type = \"integer\")\n",
    "     .to_hdf(\"../data/interim/small_merged_retention_finaid_frsh_soph.h5\",\n",
    "                   \"df\",\n",
    "                   format=\"table\")\n",
    ")"
   ]
  },
  {
   "cell_type": "code",
   "execution_count": null,
   "metadata": {},
   "outputs": [],
   "source": [
    "test_new_fn2.to_hdf(\"../data/interim/small_merged_retention_finaid_frsh_soph.h5\",\n",
    "                   \"df\",\n",
    "                   format=\"table\")"
   ]
  },
  {
   "cell_type": "code",
   "execution_count": 4,
   "metadata": {},
   "outputs": [
    {
     "data": {
      "text/plain": [
       "['animal',\n",
       " 'vegetable',\n",
       " 'mineral',\n",
       " 'mineral',\n",
       " 'animal',\n",
       " 'vegetable',\n",
       " 'vegetable',\n",
       " 'mineral',\n",
       " 'mineral',\n",
       " 'vegetable']"
      ]
     },
     "execution_count": 4,
     "metadata": {},
     "output_type": "execute_result"
    }
   ],
   "source": [
    "[random.choice([\"animal\",\n",
    "              \"vegetable\",\n",
    "              \"mineral\"])\n",
    "for _ in range(10)]"
   ]
  },
  {
   "cell_type": "code",
   "execution_count": null,
   "metadata": {},
   "outputs": [],
   "source": [
    "#Note that it might be helpful to actually look at the value counts\n",
    "#If one turns out to be WAY more common that the others, might be easier to do the \n",
    "#feature engineering in a different way"
   ]
  },
  {
   "cell_type": "code",
   "execution_count": null,
   "metadata": {},
   "outputs": [],
   "source": [
    "smallMergedDF.select_dtypes(include=['object']).nunique()"
   ]
  },
  {
   "cell_type": "code",
   "execution_count": null,
   "metadata": {},
   "outputs": [],
   "source": [
    "df[\"A\"]"
   ]
  },
  {
   "cell_type": "code",
   "execution_count": null,
   "metadata": {},
   "outputs": [],
   "source": [
    "small_merged_with_cats = smallMergedDF.assign(**{col : lambda x: x[col].astype(\"category\")  \n",
    "                                                 for col in \n",
    "                                                 smallMergedDF.select_dtypes(include=['object']) \n",
    "                                                 if col not in {\"emplid\", \n",
    "                                                                \"person_nm\", \n",
    "                                                                \"cche_student_id\"}})"
   ]
  },
  {
   "cell_type": "code",
   "execution_count": 11,
   "metadata": {},
   "outputs": [
    {
     "data": {
      "text/plain": [
       "Index(['A', 'C'], dtype='object')"
      ]
     },
     "execution_count": 11,
     "metadata": {},
     "output_type": "execute_result"
    }
   ],
   "source": [
    "(df.select_dtypes(include=['object']).nunique() > 0.5).index"
   ]
  },
  {
   "cell_type": "code",
   "execution_count": 12,
   "metadata": {},
   "outputs": [
    {
     "data": {
      "text/html": [
       "<div>\n",
       "<style scoped>\n",
       "    .dataframe tbody tr th:only-of-type {\n",
       "        vertical-align: middle;\n",
       "    }\n",
       "\n",
       "    .dataframe tbody tr th {\n",
       "        vertical-align: top;\n",
       "    }\n",
       "\n",
       "    .dataframe thead th {\n",
       "        text-align: right;\n",
       "    }\n",
       "</style>\n",
       "<table border=\"1\" class=\"dataframe\">\n",
       "  <thead>\n",
       "    <tr style=\"text-align: right;\">\n",
       "      <th></th>\n",
       "      <th>A</th>\n",
       "      <th>B</th>\n",
       "      <th>C</th>\n",
       "    </tr>\n",
       "  </thead>\n",
       "  <tbody>\n",
       "    <tr>\n",
       "      <th>0</th>\n",
       "      <td>bob</td>\n",
       "      <td>0</td>\n",
       "      <td>bob</td>\n",
       "    </tr>\n",
       "    <tr>\n",
       "      <th>1</th>\n",
       "      <td>alice</td>\n",
       "      <td>1</td>\n",
       "      <td>alice</td>\n",
       "    </tr>\n",
       "    <tr>\n",
       "      <th>2</th>\n",
       "      <td>charlie</td>\n",
       "      <td>2</td>\n",
       "      <td>charlie</td>\n",
       "    </tr>\n",
       "    <tr>\n",
       "      <th>3</th>\n",
       "      <td>alice</td>\n",
       "      <td>3</td>\n",
       "      <td>alice</td>\n",
       "    </tr>\n",
       "    <tr>\n",
       "      <th>4</th>\n",
       "      <td>alice</td>\n",
       "      <td>4</td>\n",
       "      <td>alice</td>\n",
       "    </tr>\n",
       "    <tr>\n",
       "      <th>5</th>\n",
       "      <td>alice</td>\n",
       "      <td>5</td>\n",
       "      <td>alice</td>\n",
       "    </tr>\n",
       "    <tr>\n",
       "      <th>6</th>\n",
       "      <td>charlie</td>\n",
       "      <td>6</td>\n",
       "      <td>charlie</td>\n",
       "    </tr>\n",
       "    <tr>\n",
       "      <th>7</th>\n",
       "      <td>charlie</td>\n",
       "      <td>7</td>\n",
       "      <td>charlie</td>\n",
       "    </tr>\n",
       "    <tr>\n",
       "      <th>8</th>\n",
       "      <td>charlie</td>\n",
       "      <td>8</td>\n",
       "      <td>charlie</td>\n",
       "    </tr>\n",
       "    <tr>\n",
       "      <th>9</th>\n",
       "      <td>charlie</td>\n",
       "      <td>9</td>\n",
       "      <td>charlie</td>\n",
       "    </tr>\n",
       "  </tbody>\n",
       "</table>\n",
       "</div>"
      ],
      "text/plain": [
       "         A  B        C\n",
       "0      bob  0      bob\n",
       "1    alice  1    alice\n",
       "2  charlie  2  charlie\n",
       "3    alice  3    alice\n",
       "4    alice  4    alice\n",
       "5    alice  5    alice\n",
       "6  charlie  6  charlie\n",
       "7  charlie  7  charlie\n",
       "8  charlie  8  charlie\n",
       "9  charlie  9  charlie"
      ]
     },
     "execution_count": 12,
     "metadata": {},
     "output_type": "execute_result"
    }
   ],
   "source": [
    "df.assign(**{col: lambda x: x[col].astype(\"category\")\n",
    "            for col in (df.select_dtypes(include=['object']).nunique() > 0.5).index})"
   ]
  },
  {
   "cell_type": "code",
   "execution_count": 8,
   "metadata": {},
   "outputs": [
    {
     "data": {
      "text/html": [
       "<div>\n",
       "<style scoped>\n",
       "    .dataframe tbody tr th:only-of-type {\n",
       "        vertical-align: middle;\n",
       "    }\n",
       "\n",
       "    .dataframe tbody tr th {\n",
       "        vertical-align: top;\n",
       "    }\n",
       "\n",
       "    .dataframe thead th {\n",
       "        text-align: right;\n",
       "    }\n",
       "</style>\n",
       "<table border=\"1\" class=\"dataframe\">\n",
       "  <thead>\n",
       "    <tr style=\"text-align: right;\">\n",
       "      <th></th>\n",
       "      <th>A</th>\n",
       "      <th>C</th>\n",
       "    </tr>\n",
       "  </thead>\n",
       "  <tbody>\n",
       "    <tr>\n",
       "      <th>0</th>\n",
       "      <td>mineral</td>\n",
       "      <td>bob</td>\n",
       "    </tr>\n",
       "    <tr>\n",
       "      <th>1</th>\n",
       "      <td>mineral</td>\n",
       "      <td>alice</td>\n",
       "    </tr>\n",
       "    <tr>\n",
       "      <th>2</th>\n",
       "      <td>animal</td>\n",
       "      <td>charlie</td>\n",
       "    </tr>\n",
       "    <tr>\n",
       "      <th>3</th>\n",
       "      <td>vegetable</td>\n",
       "      <td>alice</td>\n",
       "    </tr>\n",
       "    <tr>\n",
       "      <th>4</th>\n",
       "      <td>mineral</td>\n",
       "      <td>alice</td>\n",
       "    </tr>\n",
       "    <tr>\n",
       "      <th>5</th>\n",
       "      <td>animal</td>\n",
       "      <td>alice</td>\n",
       "    </tr>\n",
       "    <tr>\n",
       "      <th>6</th>\n",
       "      <td>mineral</td>\n",
       "      <td>charlie</td>\n",
       "    </tr>\n",
       "    <tr>\n",
       "      <th>7</th>\n",
       "      <td>mineral</td>\n",
       "      <td>charlie</td>\n",
       "    </tr>\n",
       "    <tr>\n",
       "      <th>8</th>\n",
       "      <td>vegetable</td>\n",
       "      <td>charlie</td>\n",
       "    </tr>\n",
       "    <tr>\n",
       "      <th>9</th>\n",
       "      <td>vegetable</td>\n",
       "      <td>charlie</td>\n",
       "    </tr>\n",
       "  </tbody>\n",
       "</table>\n",
       "</div>"
      ],
      "text/plain": [
       "           A        C\n",
       "0    mineral      bob\n",
       "1    mineral    alice\n",
       "2     animal  charlie\n",
       "3  vegetable    alice\n",
       "4    mineral    alice\n",
       "5     animal    alice\n",
       "6    mineral  charlie\n",
       "7    mineral  charlie\n",
       "8  vegetable  charlie\n",
       "9  vegetable  charlie"
      ]
     },
     "execution_count": 8,
     "metadata": {},
     "output_type": "execute_result"
    }
   ],
   "source": [
    "[col for col in df.select_dtypes(include=['object']) \n",
    " if "
   ]
  },
  {
   "cell_type": "code",
   "execution_count": 13,
   "metadata": {},
   "outputs": [],
   "source": [
    "def all_low_cardinality_to_categorical(df):\n",
    "    df_to_use = df.copy()\n",
    "    \n",
    "    transform_fn = lambda x: x.astype(\"category\")\n",
    "    \n",
    "    condition = lambda x:  (x.select_dtypes(include=['object']).nunique() > 0.5).index\n",
    "    \n",
    "    return multi_assign(df_to_use, transform_fn, condition)\n",
    "\n",
    "    "
   ]
  },
  {
   "cell_type": "code",
   "execution_count": 15,
   "metadata": {},
   "outputs": [
    {
     "data": {
      "text/plain": [
       "A    category\n",
       "B       int64\n",
       "C    category\n",
       "dtype: object"
      ]
     },
     "execution_count": 15,
     "metadata": {},
     "output_type": "execute_result"
    }
   ],
   "source": [
    "all_low_cardinality_to_categorical(df).dtypes"
   ]
  },
  {
   "cell_type": "code",
   "execution_count": null,
   "metadata": {},
   "outputs": [],
   "source": []
  }
 ],
 "metadata": {
  "kernelspec": {
   "display_name": "Python [conda env:py_36]",
   "language": "python",
   "name": "conda-env-py_36-py"
  },
  "language_info": {
   "codemirror_mode": {
    "name": "ipython",
    "version": 3
   },
   "file_extension": ".py",
   "mimetype": "text/x-python",
   "name": "python",
   "nbconvert_exporter": "python",
   "pygments_lexer": "ipython3",
   "version": "3.6.5"
  }
 },
 "nbformat": 4,
 "nbformat_minor": 2
}
