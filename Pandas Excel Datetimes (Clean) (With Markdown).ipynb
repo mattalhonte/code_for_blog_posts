{
 "cells": [
  {
   "cell_type": "code",
   "execution_count": 1,
   "metadata": {},
   "outputs": [],
   "source": [
    "import pandas as pd\n",
    "import arrow\n",
    "import datetime\n",
    "import xlrd\n",
    "from toolz.functoolz import pipe"
   ]
  },
  {
   "cell_type": "code",
   "execution_count": 2,
   "metadata": {},
   "outputs": [],
   "source": [
    "file = \"Group Data Updated 20180802.xlsx\""
   ]
  },
  {
   "cell_type": "code",
   "execution_count": 4,
   "metadata": {},
   "outputs": [],
   "source": [
    "dfRaw = pd.read_excel(file, sheet_name=\"Sheet1\")\n",
    "\n",
    "book = xlrd.open_workbook(file)\n",
    "datemode = book.datemode"
   ]
  },
  {
   "cell_type": "markdown",
   "metadata": {},
   "source": [
    "Pipe lets us have a nice workflow where we just list the transformations we want, and our value will be \"piped\" sequentially through each one.\n",
    "\n"
   ]
  },
  {
   "cell_type": "code",
   "execution_count": 7,
   "metadata": {},
   "outputs": [],
   "source": [
    "fns = [lambda x: xlrd.xldate_as_tuple(x, datemode),\n",
    "     lambda x: x[3:5],\n",
    "      lambda x: map(str, x),\n",
    "      lambda x: \"-\".join(x),\n",
    "       lambda x: arrow.get(x, \"H-m\"),\n",
    "       lambda x: x.format('HH:mm:ss')\n",
    "      ]\n",
    "fnRanges = [fns[:i+1] for i in range(len(fns))]"
   ]
  },
  {
   "cell_type": "markdown",
   "metadata": {},
   "source": [
    "Let's see a blow-by-blow of how one of our values gets transformed by that.\n",
    "\n",
    "The first function takes us from an Excel datetime to a datetime tuple.\n",
    "\n",
    "The next extracts just the time variables.\n",
    "\n",
    "We then map that all to a string (which shows up as nothing because map is evaluated lazily).\n",
    "\n",
    "Then we put a dash between all those elements so it'll be easier to parse as a time.\n",
    "\n",
    "Then arrow consumes the value, with the format we specified.\n",
    "\n",
    "And finally gives us a neatly-formatted time, ready to be consumed by a database!\n",
    "\n"
   ]
  },
  {
   "cell_type": "code",
   "execution_count": 6,
   "metadata": {},
   "outputs": [],
   "source": [
    "def mapPipe(ser, fns):\n",
    "    return ser.map(lambda a: pipe(a, *fns),\n",
    "                   na_action=\"ignore\" )"
   ]
  },
  {
   "cell_type": "code",
   "execution_count": 8,
   "metadata": {},
   "outputs": [
    {
     "data": {
      "text/html": [
       "<div>\n",
       "<style scoped>\n",
       "    .dataframe tbody tr th:only-of-type {\n",
       "        vertical-align: middle;\n",
       "    }\n",
       "\n",
       "    .dataframe tbody tr th {\n",
       "        vertical-align: top;\n",
       "    }\n",
       "\n",
       "    .dataframe thead th {\n",
       "        text-align: right;\n",
       "    }\n",
       "</style>\n",
       "<table border=\"1\" class=\"dataframe\">\n",
       "  <thead>\n",
       "    <tr style=\"text-align: right;\">\n",
       "      <th></th>\n",
       "      <th>Time of Appointment: Start</th>\n",
       "      <th>Time of Appointment: Start</th>\n",
       "      <th>Time of Appointment: Start</th>\n",
       "      <th>Time of Appointment: Start</th>\n",
       "      <th>Time of Appointment: Start</th>\n",
       "      <th>Time of Appointment: Start</th>\n",
       "    </tr>\n",
       "  </thead>\n",
       "  <tbody>\n",
       "    <tr>\n",
       "      <th>0</th>\n",
       "      <td>(0, 0, 0, 14, 30, 0)</td>\n",
       "      <td>(14, 30)</td>\n",
       "      <td>&lt;map object at 0x7fcc37fd6860&gt;</td>\n",
       "      <td>14-30</td>\n",
       "      <td>0001-01-01T14:30:00+00:00</td>\n",
       "      <td>14:30:00</td>\n",
       "    </tr>\n",
       "    <tr>\n",
       "      <th>1</th>\n",
       "      <td>(0, 0, 0, 14, 0, 0)</td>\n",
       "      <td>(14, 0)</td>\n",
       "      <td>&lt;map object at 0x7fcc37cf3dd8&gt;</td>\n",
       "      <td>14-0</td>\n",
       "      <td>0001-01-01T14:00:00+00:00</td>\n",
       "      <td>14:00:00</td>\n",
       "    </tr>\n",
       "    <tr>\n",
       "      <th>2</th>\n",
       "      <td>(0, 0, 0, 14, 0, 0)</td>\n",
       "      <td>(14, 0)</td>\n",
       "      <td>&lt;map object at 0x7fcc37cf3c50&gt;</td>\n",
       "      <td>14-0</td>\n",
       "      <td>0001-01-01T14:00:00+00:00</td>\n",
       "      <td>14:00:00</td>\n",
       "    </tr>\n",
       "    <tr>\n",
       "      <th>3</th>\n",
       "      <td>NaN</td>\n",
       "      <td>NaN</td>\n",
       "      <td>NaN</td>\n",
       "      <td>NaN</td>\n",
       "      <td>NaN</td>\n",
       "      <td>NaN</td>\n",
       "    </tr>\n",
       "    <tr>\n",
       "      <th>4</th>\n",
       "      <td>(0, 0, 0, 11, 30, 0)</td>\n",
       "      <td>(11, 30)</td>\n",
       "      <td>&lt;map object at 0x7fcc37cf31d0&gt;</td>\n",
       "      <td>11-30</td>\n",
       "      <td>0001-01-01T11:30:00+00:00</td>\n",
       "      <td>11:30:00</td>\n",
       "    </tr>\n",
       "  </tbody>\n",
       "</table>\n",
       "</div>"
      ],
      "text/plain": [
       "  Time of Appointment: Start Time of Appointment: Start  \\\n",
       "0       (0, 0, 0, 14, 30, 0)                   (14, 30)   \n",
       "1        (0, 0, 0, 14, 0, 0)                    (14, 0)   \n",
       "2        (0, 0, 0, 14, 0, 0)                    (14, 0)   \n",
       "3                        NaN                        NaN   \n",
       "4       (0, 0, 0, 11, 30, 0)                   (11, 30)   \n",
       "\n",
       "       Time of Appointment: Start Time of Appointment: Start  \\\n",
       "0  <map object at 0x7fcc37fd6860>                      14-30   \n",
       "1  <map object at 0x7fcc37cf3dd8>                       14-0   \n",
       "2  <map object at 0x7fcc37cf3c50>                       14-0   \n",
       "3                             NaN                        NaN   \n",
       "4  <map object at 0x7fcc37cf31d0>                      11-30   \n",
       "\n",
       "  Time of Appointment: Start Time of Appointment: Start  \n",
       "0  0001-01-01T14:30:00+00:00                   14:30:00  \n",
       "1  0001-01-01T14:00:00+00:00                   14:00:00  \n",
       "2  0001-01-01T14:00:00+00:00                   14:00:00  \n",
       "3                        NaN                        NaN  \n",
       "4  0001-01-01T11:30:00+00:00                   11:30:00  "
      ]
     },
     "execution_count": 8,
     "metadata": {},
     "output_type": "execute_result"
    }
   ],
   "source": [
    "pd.DataFrame([mapPipe(dfRaw[\"Time of Appointment: Start\"], \n",
    "       fns) for fns in fnRanges]).transpose().iloc[:5]"
   ]
  },
  {
   "cell_type": "code",
   "execution_count": 27,
   "metadata": {},
   "outputs": [],
   "source": [
    "dateFns = [lambda x: xlrd.xldate_as_tuple(x, datemode),\n",
    "      lambda x: arrow.get(*x),\n",
    "      lambda x: x.format('YYYY-MM-DD')\n",
    "      ]"
   ]
  },
  {
   "cell_type": "code",
   "execution_count": 28,
   "metadata": {},
   "outputs": [
    {
     "data": {
      "text/plain": [
       "0             NaN\n",
       "1             NaN\n",
       "2             NaN\n",
       "3             NaN\n",
       "4      2017-06-04\n",
       "5             NaN\n",
       "6             NaN\n",
       "7             NaN\n",
       "8             NaN\n",
       "9      2017-06-28\n",
       "10            NaN\n",
       "11            NaN\n",
       "12            NaN\n",
       "13            NaN\n",
       "14            NaN\n",
       "15            NaN\n",
       "16            NaN\n",
       "17     2017-03-10\n",
       "18            NaN\n",
       "19            NaN\n",
       "20            NaN\n",
       "21            NaN\n",
       "22     2017-05-22\n",
       "23            NaN\n",
       "24            NaN\n",
       "25            NaN\n",
       "26            NaN\n",
       "27            NaN\n",
       "28            NaN\n",
       "29     2016-12-23\n",
       "          ...    \n",
       "85            NaN\n",
       "86            NaN\n",
       "87            NaN\n",
       "88            NaN\n",
       "89     2017-08-30\n",
       "90     2017-05-09\n",
       "91            NaN\n",
       "92            NaN\n",
       "93            NaN\n",
       "94            NaN\n",
       "95     2017-06-06\n",
       "96            NaN\n",
       "97            NaN\n",
       "98            NaN\n",
       "99            NaN\n",
       "100           NaN\n",
       "101           NaN\n",
       "102           NaN\n",
       "103           NaN\n",
       "104           NaN\n",
       "105           NaN\n",
       "106           NaN\n",
       "107           NaN\n",
       "108           NaN\n",
       "109           NaN\n",
       "110           NaN\n",
       "111           NaN\n",
       "112           NaN\n",
       "113           NaN\n",
       "114           NaN\n",
       "Name: Date Payment Settled, Length: 115, dtype: object"
      ]
     },
     "execution_count": 28,
     "metadata": {},
     "output_type": "execute_result"
    }
   ],
   "source": [
    "mapPipe(dfRaw['Date Payment Settled'],#.dropna(), \n",
    "       dateFns)"
   ]
  },
  {
   "cell_type": "code",
   "execution_count": null,
   "metadata": {},
   "outputs": [],
   "source": [
    "pd.DataFrame([mapPipe(dfRaw[\"Date of Appointment\"], \n",
    "       fns) for fns in fnRanges]).transpose().iloc[:5]"
   ]
  },
  {
   "cell_type": "code",
   "execution_count": 29,
   "metadata": {},
   "outputs": [],
   "source": [
    "dateRange = [(2018, 8, 12, 21, 50, x) for x in range(16, 21)]"
   ]
  },
  {
   "cell_type": "code",
   "execution_count": 30,
   "metadata": {},
   "outputs": [],
   "source": [
    "xlDates = [xlrd.xldate.xldate_from_datetime_tuple(x,\n",
    "                                      0)\n",
    " for x in dateRange]\n",
    "\n",
    "xlSer = pd.Series(xlDates)"
   ]
  },
  {
   "cell_type": "code",
   "execution_count": 31,
   "metadata": {},
   "outputs": [],
   "source": [
    "excelTimes = [x-43324 for x in xlDates]"
   ]
  },
  {
   "cell_type": "code",
   "execution_count": 32,
   "metadata": {},
   "outputs": [],
   "source": [
    "df = pd.DataFrame([(43324, x) for x in excelTimes],\n",
    "            columns=[\"Date\", \"Time\"])"
   ]
  },
  {
   "cell_type": "code",
   "execution_count": null,
   "metadata": {},
   "outputs": [],
   "source": [
    "def printTable(ser):\n",
    "    print(pd.DataFrame(ser).to_html())\n",
    "printTable(df[\"Time\"])"
   ]
  }
 ],
 "metadata": {
  "kernelspec": {
   "display_name": "Python [conda env:py_37]",
   "language": "python",
   "name": "conda-env-py_37-py"
  },
  "language_info": {
   "codemirror_mode": {
    "name": "ipython",
    "version": 3
   },
   "file_extension": ".py",
   "mimetype": "text/x-python",
   "name": "python",
   "nbconvert_exporter": "python",
   "pygments_lexer": "ipython3",
   "version": "3.7.3"
  }
 },
 "nbformat": 4,
 "nbformat_minor": 4
}
